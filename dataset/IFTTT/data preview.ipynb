{
 "cells": [
  {
   "cell_type": "markdown",
   "metadata": {},
   "source": [
    "#### 0. import library"
   ]
  },
  {
   "cell_type": "code",
   "execution_count": 1,
   "metadata": {},
   "outputs": [],
   "source": [
    "import pickle\n",
    "import json\n",
    "from copy import deepcopy\n",
    "import codecs\n",
    "import numpy as np\n",
    "from collections import defaultdict"
   ]
  },
  {
   "cell_type": "markdown",
   "metadata": {},
   "source": [
    "#### 0.1 load the dataset"
   ]
  },
  {
   "cell_type": "code",
   "execution_count": 2,
   "metadata": {},
   "outputs": [],
   "source": [
    "filename=\"msr_data.pkl\"\n",
    "with open(filename, 'rb') as f:\n",
    "    datadict = pickle.load(f, encoding='latin1') "
   ]
  },
  {
   "cell_type": "markdown",
   "metadata": {},
   "source": [
    "#### 0.2 print all the keys"
   ]
  },
  {
   "cell_type": "code",
   "execution_count": 3,
   "metadata": {},
   "outputs": [
    {
     "data": {
      "text/plain": [
       "dict_keys(['label_types', 'word_ids', 'dev', 'train', 'test', 'num_labels', 'new_test', 'index2label', 'label2index'])"
      ]
     },
     "execution_count": 3,
     "metadata": {},
     "output_type": "execute_result"
    }
   ],
   "source": [
    "key=datadict.keys()\n",
    "key"
   ]
  },
  {
   "cell_type": "code",
   "execution_count": 5,
   "metadata": {},
   "outputs": [
    {
     "name": "stdout",
     "output_type": "stream",
     "text": [
      "[111, 443, 88, 161]\n"
     ]
    }
   ],
   "source": [
    "print([len(x) for x in datadict['index2label']])"
   ]
  },
  {
   "cell_type": "code",
   "execution_count": 4,
   "metadata": {},
   "outputs": [
    {
     "name": "stdout",
     "output_type": "stream",
     "text": [
      "[111, 443, 88, 162]\n",
      "68083\n",
      "4220\n",
      "2640\n"
     ]
    }
   ],
   "source": [
    "print(datadict['num_labels'])\n",
    "print(len(datadict['train']))\n",
    "print(len(datadict['dev']))\n",
    "count = 0\n",
    "for x in datadict['test']:\n",
    "    if 'tags' in x and 'intelligible' in x['tags']:\n",
    "        count+=1\n",
    "print(count)"
   ]
  },
  {
   "cell_type": "markdown",
   "metadata": {},
   "source": [
    "#### 0.3 label name swap\n",
    "1. Fiance -> Stocks\n",
    "2. "
   ]
  },
  {
   "cell_type": "code",
   "execution_count": 66,
   "metadata": {},
   "outputs": [],
   "source": [
    "swapped=[['Finance', 'Stocks'],['iOS_Location','Location'],['Android_Location','Location'],['Time','TIME'],['\"blink(1)\"','blink(1)']]\n",
    "for x in datadict['train'] + datadict['dev'] + datadict['test']:\n",
    "#     print(x['label_names'])\n",
    "    for j, it in enumerate(x['label_names']):\n",
    "        if it == swapped[0][0]:\n",
    "            x['label_names'][j] = swapped[0][1]\n",
    "        if it == swapped[1][0]:\n",
    "            x['label_names'][j] = swapped[1][1]\n",
    "        if it == swapped[2][0]:\n",
    "            x['label_names'][j] = swapped[2][1]\n",
    "        if it == swapped[3][0]:\n",
    "            x['label_names'][j] = swapped[3][1]\n",
    "            \n",
    "# check again\n",
    "for x in datadict['train'] + datadict['dev'] + datadict['test']:\n",
    "#     print(x['label_names'])\n",
    "    for it in x['label_names']:\n",
    "        if it == swapped[0][0]:\n",
    "             print(x['label_names'])\n",
    "        if it == swapped[1][0]:\n",
    "             print(x['label_names'])\n",
    "        if it == swapped[2][0]:\n",
    "             print(x['label_names'])\n",
    "        if it == swapped[3][0]:\n",
    "             print(x['label_names'])\n",
    "# save to the pickle file\n",
    "filename=\"msr_data.pkl\"\n",
    "with open(filename, 'wb') as f:\n",
    "    pickle.dump(datadict, f) "
   ]
  },
  {
   "cell_type": "markdown",
   "metadata": {},
   "source": [
    "#### delete unused dict in train/dev/test"
   ]
  },
  {
   "cell_type": "code",
   "execution_count": 22,
   "metadata": {},
   "outputs": [],
   "source": [
    "for i in range(len(datadict['train'])):\n",
    "    if 'semi_correct_trigger_param' in datadict['train'][i]:\n",
    "        del datadict['train'][i]['semi_correct_trigger_param']\n",
    "    if 'correct_action_param' in datadict['train'][i]:\n",
    "        del datadict['train'][i]['correct_action_param']\n",
    "    if 'correct_trigger_param' in datadict['train'][i]:\n",
    "        del datadict['train'][i]['correct_trigger_param']\n",
    "    if 'semi_correct_action_param' in datadict['train'][i]:\n",
    "        del datadict['train'][i]['semi_correct_action_param']\n",
    "        \n",
    "for i in range(len(datadict['dev'])):\n",
    "    if 'semi_correct_trigger_param' in datadict['train'][i]:\n",
    "        del datadict['train'][i]['semi_correct_trigger_param']\n",
    "    if 'correct_action_param' in datadict['train'][i]:\n",
    "        del datadict['train'][i]['correct_action_param']\n",
    "    if 'correct_trigger_param' in datadict['train'][i]:\n",
    "        del datadict['train'][i]['correct_trigger_param']\n",
    "    if 'semi_correct_action_param' in datadict['train'][i]:\n",
    "        del datadict['train'][i]['semi_correct_action_param']\n",
    "\n",
    "for i in range(len(datadict['test'])):\n",
    "    if 'semi_correct_trigger_param' in datadict['train'][i]:\n",
    "        del datadict['train'][i]['semi_correct_trigger_param']\n",
    "    if 'correct_action_param' in datadict['train'][i]:\n",
    "        del datadict['train'][i]['correct_action_param']\n",
    "    if 'correct_trigger_param' in datadict['train'][i]:\n",
    "        del datadict['train'][i]['correct_trigger_param']\n",
    "    if 'semi_correct_action_param' in datadict['train'][i]:\n",
    "        del datadict['train'][i]['semi_correct_action_param']\n",
    " # save to the pickle file\n",
    "filename=\"msr_data.pkl\"\n",
    "with open(filename, 'wb') as f:\n",
    "    pickle.dump(datadict, f)        "
   ]
  },
  {
   "cell_type": "code",
   "execution_count": 5,
   "metadata": {},
   "outputs": [
    {
     "data": {
      "text/plain": [
       "{'url': 'https://ifttt.com/recipes/1-autosave-your-instagram-photos-to-dropbox',\n",
       " 'labels': [45, 193, 11, 20],\n",
       " 'ids': [3617, 20, 31, 50, 1, 40],\n",
       " 'label_names': ['instagram',\n",
       "  'any_new_photo_by_you',\n",
       "  'dropbox',\n",
       "  'add_file_from_url'],\n",
       " 'params': [[],\n",
       "  [('File_URL', '{{SourceUrl}}'),\n",
       "   ('File_name', '{{Caption}}'),\n",
       "   ('Dropbox_folder_path', 'IFTTT/Instagram')]],\n",
       " 'words': ['autosave', 'your', 'instagram', 'photos', 'to', 'dropbox']}"
      ]
     },
     "execution_count": 5,
     "metadata": {},
     "output_type": "execute_result"
    }
   ],
   "source": [
    "datadict['train'][0]"
   ]
  },
  {
   "cell_type": "markdown",
   "metadata": {},
   "source": [
    "#### generate label to index dictionary"
   ]
  },
  {
   "cell_type": "code",
   "execution_count": null,
   "metadata": {},
   "outputs": [],
   "source": []
  },
  {
   "cell_type": "markdown",
   "metadata": {},
   "source": [
    "#### 1. get all the samples"
   ]
  },
  {
   "cell_type": "code",
   "execution_count": 5,
   "metadata": {},
   "outputs": [
    {
     "name": "stdout",
     "output_type": "stream",
     "text": [
      "72303\n"
     ]
    }
   ],
   "source": [
    "names=[it['label_names'] for it in datadict['train']]\n",
    "names+=[it['label_names'] for it in datadict['dev']]\n",
    "new_names=[]\n",
    "for na in names:\n",
    "    na=[x for x in na]\n",
    "    new_names.append(na)\n",
    "print(len(new_names))"
   ]
  },
  {
   "cell_type": "markdown",
   "metadata": {},
   "source": [
    "#### 2. generate every label"
   ]
  },
  {
   "cell_type": "code",
   "execution_count": 8,
   "metadata": {},
   "outputs": [],
   "source": [
    "datadict['num_labels']=idx\n",
    "# save to the pickle file\n",
    "filename=\"msr_data.pkl\"\n",
    "with open(filename, 'wb') as f:\n",
    "    pickle.dump(datadict, f) "
   ]
  },
  {
   "cell_type": "markdown",
   "metadata": {},
   "source": [
    "#### check label coverage"
   ]
  },
  {
   "cell_type": "code",
   "execution_count": 78,
   "metadata": {},
   "outputs": [],
   "source": [
    "count=np.zeros((4,2),dtype=np.int32)\n",
    "for name in zero:\n",
    "    if name in dicts[0]:\n",
    "        count[0][0]+=1\n",
    "    else:\n",
    "        count[0][1]+=1\n",
    "        print(name)"
   ]
  },
  {
   "cell_type": "markdown",
   "metadata": {},
   "source": [
    "#### 3. generate the corresponding bipartite graph"
   ]
  },
  {
   "cell_type": "code",
   "execution_count": 21,
   "metadata": {},
   "outputs": [
    {
     "ename": "NameError",
     "evalue": "name 'matrix' is not defined",
     "output_type": "error",
     "traceback": [
      "\u001b[0;31m---------------------------------------------------------------------------\u001b[0m",
      "\u001b[0;31mNameError\u001b[0m                                 Traceback (most recent call last)",
      "\u001b[0;32m<ipython-input-21-68cd513b0e78>\u001b[0m in \u001b[0;36m<module>\u001b[0;34m\u001b[0m\n\u001b[1;32m     55\u001b[0m \u001b[0;34m\u001b[0m\u001b[0m\n\u001b[1;32m     56\u001b[0m \u001b[0;31m# label[3] -> label[1]\u001b[0m\u001b[0;34m\u001b[0m\u001b[0;34m\u001b[0m\u001b[0m\n\u001b[0;32m---> 57\u001b[0;31m \u001b[0;32mdel\u001b[0m \u001b[0mmatrix\u001b[0m\u001b[0;34m\u001b[0m\u001b[0m\n\u001b[0m\u001b[1;32m     58\u001b[0m \u001b[0mthree_one\u001b[0m\u001b[0;34m=\u001b[0m\u001b[0mnp\u001b[0m\u001b[0;34m.\u001b[0m\u001b[0mzeros\u001b[0m\u001b[0;34m(\u001b[0m\u001b[0;34m(\u001b[0m\u001b[0mlen\u001b[0m\u001b[0;34m(\u001b[0m\u001b[0mthree\u001b[0m\u001b[0;34m)\u001b[0m\u001b[0;34m,\u001b[0m\u001b[0mlen\u001b[0m\u001b[0;34m(\u001b[0m\u001b[0mone\u001b[0m\u001b[0;34m)\u001b[0m\u001b[0;34m)\u001b[0m\u001b[0;34m,\u001b[0m\u001b[0mdtype\u001b[0m\u001b[0;34m=\u001b[0m\u001b[0mnp\u001b[0m\u001b[0;34m.\u001b[0m\u001b[0mint32\u001b[0m\u001b[0;34m)\u001b[0m\u001b[0;34m\u001b[0m\u001b[0m\n\u001b[1;32m     59\u001b[0m \u001b[0;32mfor\u001b[0m \u001b[0mi\u001b[0m \u001b[0;32min\u001b[0m \u001b[0mrange\u001b[0m\u001b[0;34m(\u001b[0m\u001b[0mlength\u001b[0m\u001b[0;34m)\u001b[0m\u001b[0;34m:\u001b[0m\u001b[0;34m\u001b[0m\u001b[0m\n",
      "\u001b[0;31mNameError\u001b[0m: name 'matrix' is not defined"
     ]
    }
   ],
   "source": [
    "# label[0] -> label[2]\n",
    "\n",
    "zero_two=np.zeros((len(zero),len(two)),dtype=np.int32)\n",
    "length= len(new_names)\n",
    "for i in range(length):\n",
    "    na=new_names[i]\n",
    "    x=int(zero[na[0]])\n",
    "    y=int(two[na[2]])\n",
    "    zero_two[x][y]=1\n",
    "    \n",
    "with codecs.open(\"zero_two_bipartite.txt\",'w','utf-8')as fw:\n",
    "    fw.write(\"{} {} {}\\n\".format(len(zero), max(np.sum(zero_two, axis=1)), len(two)))\n",
    "    for i in range(len(zero)):\n",
    "        for j in range(len(two)):\n",
    "            if zero_two[i,j]!=0.0:\n",
    "                fw.write(\"{} {}\\n\".format(i,j))\n",
    "    fw.flush()\n",
    "    fw.close()\n",
    "\n",
    "# label[1] -> label[3]\n",
    "\n",
    "one_three=np.zeros((len(one),len(three)),dtype=np.int32)\n",
    "for i in range(length):\n",
    "    na=new_names[i]\n",
    "    x=int(one[na[1]])\n",
    "    y=int(three[na[3]])\n",
    "    one_three[x][y]=1\n",
    "    \n",
    "with codecs.open(\"one_three_bipartite.txt\",'w','utf-8')as fw:\n",
    "    fw.write(\"{} {} {}\\n\".format(len(one), max(np.sum(one_three, axis=1)), len(three)))\n",
    "    for i in range(len(one)):\n",
    "        for j in range(len(three)):\n",
    "            if one_three[i,j]!=0.0:\n",
    "                fw.write(\"{} {}\\n\".format(i,j))\n",
    "    fw.flush()\n",
    "    fw.close()\n",
    "\n",
    "# label[3] -> label[3]\n",
    "three_one=np.zeros((len(one),len(three)),dtype=np.int32)\n",
    "for i in range(length):\n",
    "    na=new_names[i]\n",
    "    x=int(one[na[1]])\n",
    "    y=int(three[na[3]])\n",
    "    three_one[y][x]=1\n",
    "    \n",
    "\n",
    "with codecs.open(\"three_one_bipartite.txt\",'w','utf-8')as fw:\n",
    "    fw.write(\"{} {} {}\\n\".format(len(three), max(np.sum(one_three, axis=1)), len(one)))\n",
    "    for i in range(len(one)):\n",
    "        for j in range(len(three)):\n",
    "            if one_three[i,j]!=0.0:\n",
    "                fw.write(\"{} {}\\n\".format(i,j))\n",
    "    fw.flush()\n",
    "    fw.close()\n",
    "\n",
    "# label[2] -> label[0]\n",
    "\n",
    "two_zero=np.zeros((len(two),len(zero)),dtype=np.int32)\n",
    "for i in range(length):\n",
    "    na=new_names[i]\n",
    "    x=int(zero[na[0]])\n",
    "    y=int(two[na[2]])\n",
    "    two_zero[y][x]=1\n",
    "    \n",
    "with codecs.open(\"two_zero_bipartite.txt\",'w','utf-8')as fw:\n",
    "    fw.write(\"{} {} {}\\n\".format(len(two), max(np.sum(two_zero, axis=1)), len(zero)))\n",
    "    for i in range(len(two)):\n",
    "        for j in range(len(zero)):\n",
    "            if two_zero[i,j]!=0.0:\n",
    "                fw.write(\"{} {}\\n\".format(i,j))\n",
    "    fw.flush()\n",
    "    fw.close()\n",
    "\n",
    "# label[3] -> label[1]\n",
    "three_one=np.zeros((len(three),len(one)),dtype=np.int32)\n",
    "for i in range(length):\n",
    "    na=new_names[i]\n",
    "   \n",
    "    x=int(one[na[1]])\n",
    "    y=int(three[na[3]])\n",
    "    if i>=8 and i<=9:\n",
    "        print(i, na,x,y)\n",
    "    three_one[y][x]=1\n",
    "# print(three_one[7,9])   \n",
    "with codecs.open(\"three_one_bipartite.txt\",'w','utf-8')as fw:\n",
    "    fw.write(\"{} {} {}\\n\".format(len(three), max(np.sum(three_one, axis=1)), len(one)))\n",
    "    for i in range(len(three)):\n",
    "        for j in range(len(one)):\n",
    "            if three_one[i,j]!=0.0:\n",
    "                fw.write(\"{} {}\\n\".format(i,j))\n",
    "    fw.flush()\n",
    "    fw.close()\n"
   ]
  },
  {
   "cell_type": "code",
   "execution_count": 25,
   "metadata": {},
   "outputs": [],
   "source": [
    "# label[0] -> label[1]\n",
    "\n",
    "zero_one=np.zeros((len(zero),len(one)),dtype=np.int32)\n",
    "length= len(new_names)\n",
    "for i in range(length):\n",
    "    na=new_names[i]\n",
    "    x=int(zero[na[0]])\n",
    "    y=int(one[na[1]])\n",
    "    zero_one[x][y]=1\n",
    "    \n",
    "with codecs.open(\"zero_one_bipartite.txt\",'w','utf-8')as fw:\n",
    "    fw.write(\"{} {} {}\\n\".format(len(zero), max(np.sum(zero_one, axis=1)), len(one)))\n",
    "    for i in range(len(zero)):\n",
    "        for j in range(len(one)):\n",
    "            if zero_one[i,j]!=0.0:\n",
    "                fw.write(\"{} {}\\n\".format(i,j))\n",
    "    fw.flush()\n",
    "    fw.close()\n",
    "\n",
    "# label[2] -> label[3]\n",
    "two_three=np.zeros((len(two),len(three)),dtype=np.int32)\n",
    "for i in range(length):\n",
    "    na=new_names[i]\n",
    "    x=int(two[na[2]])\n",
    "    y=int(three[na[3]])\n",
    "    two_three[x][y]=1\n",
    "    \n",
    "with codecs.open(\"two_three_bipartite.txt\",'w','utf-8')as fw:\n",
    "    fw.write(\"{} {} {}\\n\".format(len(two), max(np.sum(two_three, axis=1)), len(three)))\n",
    "    for i in range(len(two)):\n",
    "        for j in range(len(three)):\n",
    "            if two_three[i,j]!=0.0:\n",
    "                fw.write(\"{} {}\\n\".format(i,j))\n",
    "    fw.flush()\n",
    "    fw.close()"
   ]
  },
  {
   "cell_type": "markdown",
   "metadata": {},
   "source": [
    "#### generate the dev, test set with bipartite graph"
   ]
  },
  {
   "cell_type": "code",
   "execution_count": 23,
   "metadata": {},
   "outputs": [
    {
     "name": "stdout",
     "output_type": "stream",
     "text": [
      "['Facebook_Pages', 'New_status_message_on_page', 'Dropbox', 'Add_file_from_URL']\n",
      "['Feed', 'New_feed_item', 'Twitter', 'Update_bio']\n",
      "['Foursquare', 'New_check-in_with_photo', 'Tumblr', 'Create_a_text_post']\n",
      "['IFTTT', 'New_Published_Recipe_by_you', 'Dropbox', 'Create_a_text_file']\n",
      "['SMS', 'Send_IFTTT_an_SMS_tagged', 'Pinboard', 'Add_a_public_bookmark']\n",
      "['WeMo_Motion', 'New_motion_after_quiet_period', 'Pushover', 'Send_a_high-priority_notification']\n",
      "['IFTTT', 'Any_new_Published_Recipe', 'Evernote', 'Create_a_note']\n",
      "['Flickr', 'New_public_favorite', 'Buffer', 'Add_photo_to_Buffer']\n",
      "['IFTTT', 'Any_new_Published_Recipe', 'Evernote', 'Create_a_link_note']\n",
      "['SoundCloud', 'New_public_track_by_anyone_you_follow', 'Google_Drive', 'Add_row_to_spreadsheet']\n",
      "['bitly', 'Any_new_public_bitmark', 'Buffer', 'Add_photo_to_Buffer']\n",
      "['WeMo_Motion', 'Any_new_motion', 'WeMo_Switch', 'Turn_off']\n",
      "['Instagram', 'New_photo_by_specific_user', 'Twitter', 'Add_user_to_list']\n",
      "['Weather', 'Current_condition_changes_to', 'WeMo_Switch', 'Turn_off_then_on']\n",
      "['Vimeo', 'New_video_uploaded', 'Flickr', 'Upload_public_photo_from_URL']\n",
      "['Date_&_Time', 'Every_month_on_the', 'LinkedIn', 'Share_a_link']\n",
      "['Date_&_Time', 'Every_month_on_the', 'LinkedIn', 'Share_a_link']\n",
      "['Date_&_Time', 'Every_month_on_the', 'LinkedIn', 'Share_a_link']\n",
      "['Date_&_Time', 'Every_month_on_the', 'LinkedIn', 'Share_a_link']\n",
      "['Date_&_Time', 'Every_month_on_the', 'LinkedIn', 'Share_a_link']\n",
      "['Date_&_Time', 'Every_month_on_the', 'LinkedIn', 'Share_a_link']\n",
      "['Date_&_Time', 'Every_month_on_the', 'LinkedIn', 'Share_a_link']\n",
      "['Tumblr', 'New_post_on_a_blog_you_follow', 'Box', 'Upload_file_from_URL']\n",
      "['WeMo_Switch', 'Switched_off', 'WeMo_Switch', 'Turn_on_then_off']\n",
      "['Craigslist', 'New_post_from_search', 'SoundCloud', 'Upload_a_public_track']\n",
      "['Weather', \"Tomorrow's_forecast_calls_for\", 'Tumblr', 'Create_a_video_post']\n",
      "['Flickr', 'Any_new_set', 'Evernote', 'Create_a_note']\n",
      "['Date_&_Time', 'Every_year_on', 'WeMo_Switch', 'Turn_off']\n",
      "['Foursquare', 'New_check-in_tagged', 'Evernote', 'Append_to_note']\n",
      "['Weather', \"Tomorrow's_weather_report\", 'Facebook_Pages', 'Create_a_link_post']\n",
      "['Weather', 'Sunset', 'Google_Drive', 'Upload_file_from_URL']\n",
      "['Email', 'Send_IFTTT_an_email_tagged', 'UP_by_Jawbone', 'Log_a_meal']\n",
      "['Email', 'Send_IFTTT_any_email', 'Philips_Hue', 'Turn_on_lights']\n",
      "['WeMo_Motion', 'Any_new_motion', 'WeMo_Switch', 'Turn_off']\n",
      "['Weather', \"Today's_weather_report\", 'Philips_Hue', 'Change_color_from_image']\n",
      "['Google_Calendar', 'Event_from_search_starts', 'Tumblr', 'Create_a_photo_post']\n",
      "['Weather', 'Current_humidity_level_rises_above', 'Twitter', 'Post_a_tweet']\n",
      "['WeMo_Switch', 'Switched_on', 'WeMo_Switch', 'Turn_on_then_off']\n",
      "['iOS_Reminders', 'Reminder_completed_in_list', 'Dropbox', 'Append_to_a_text_file']\n",
      "['SmartThings', 'Presence_no_longer_detected', 'WeMo_Switch', 'Turn_off']\n",
      "['Weather', 'Current_condition_changes_to', 'WeMo_Switch', 'Turn_off_then_on']\n",
      "['Tumblr', 'New_like', 'Flickr', 'Upload_public_photo_from_URL']\n",
      "['ESPN', 'New_final_score', 'Philips_Hue', 'Turn_off_lights']\n",
      "['500px', 'New_photo_from_search', 'Twitter', 'Post_a_tweet_with_image']\n",
      "['Instagram', 'You_like_a_video', 'Facebook_Pages', 'Upload_a_photo_from_URL']\n",
      "['Diigo', 'Any_new_public_bookmark', 'Box', 'Upload_file_from_URL']\n",
      "['Withings', 'Body_Scale_-_New_measurement', 'SmartThings', 'Switch_on']\n",
      "['Date_&_Time', 'Every_month_on_the', 'WeMo_Switch', 'Turn_on']\n",
      "['Netatmo_Weather_Station', 'Temperature_drops_below', 'Evernote', 'Append_to_note']\n",
      "['Feedly', 'New_article_saved_for_later', 'Box', 'Upload_file_from_URL']\n",
      "['Netatmo_Weather_Station', 'Temperature_drops_below', 'Evernote', 'Append_to_note']\n",
      "['Weather', 'Current_UV_index_rises_above', 'Twitter', 'Send_a_direct_message_to_yourself']\n",
      "['SMS', 'Send_IFTTT_an_SMS_tagged', 'SmartThings', 'Switch_off']\n",
      "['Withings', \"Pulse_-_Yesterday's_activity_logged\", 'UP_by_Jawbone', 'Log_an_event']\n",
      "['The_New_York_Times', 'New_article_from_search', 'OneNote', 'Create_a_page_from_a_link']\n",
      "['ESPN', 'New_final_score', 'OneNote', 'Create_a_page_from_a_link']\n",
      "['GitHub', 'New_issue_assigned_to_you', 'OneNote', 'Create_a_page_from_a_link']\n",
      "['Pocket', 'New_favorite_item', 'Pushbullet', 'Push_a_link']\n",
      "['Stocks', 'Price_at_close', 'Twitter', 'Update_bio']\n",
      "['Twitter', 'New_tweet_by_you', 'Pushbullet', 'Push_a_note']\n",
      "['reddit', 'New_post_by_you', 'reddit', 'Submit_a_new_link']\n",
      "['Automatic', 'Ignition_turned_on', 'IF_Notifications', 'Send_a_notification']\n",
      "['500px', \"New_Editors'_Choice_photo\", 'Evernote', 'Create_image_note_from_URL']\n",
      "['Buffer', 'Any_new_post_in_Buffer', 'IF_Notifications', 'Send_a_notification']\n",
      "['Gmail', 'New_email_in_inbox_from_search', 'Philips_Hue', 'Blink_lights']\n",
      "['Space', 'ISS_passes_over_a_specific_location', 'Philips_Hue', 'Turn_on_color_loop']\n",
      "['Weather', \"Tomorrow's_high_rises_above\", 'Facebook', 'Create_a_link_post']\n",
      "['Android_Device', 'Connects_or_disconnects_from_a_specific_WiFi_network', 'Google_Calendar', 'Quick_add_event']\n",
      "['Android_Phone_Call', 'Any_phone_call_missed', 'SMS', 'Send_me_an_SMS']\n",
      "['WeMo_Insight_Switch', 'Daily_minutes_on_is_longer_than', 'Numerous', 'Increment_a_number']\n",
      "['Android_Device', 'Connects_to_a_specific_WiFi_network', 'Google_Calendar', 'Quick_add_event']\n",
      "['Fitbit', 'Daily_very_active_minutes_goal_achieved', 'iOS_Reminders', 'Add_reminder_to_list']\n",
      "['Fitbit', 'Sleep_duration_below', 'IF_Notifications', 'Send_a_notification']\n",
      "['Facebook', 'Any_new_post_by_you_in_area', 'UP_by_Jawbone', 'Log_an_event']\n",
      "['reddit', 'New_post_by_you', 'IF_Notifications', 'Send_a_notification']\n",
      "['Fitbit', 'New_weight_logged', 'SMS', 'Send_me_an_SMS']\n",
      "['Digg', 'You_digg_a_story', 'GitHub', 'Create_an_issue']\n",
      "['Twitter', 'New_follower', 'Twitter', 'Update_profile_picture']\n",
      "['Withings', 'Body_Scale_-_Weight_measurement_rises_above', 'Gmail', 'Send_an_email']\n",
      "['Instapaper', 'New_liked_item', 'Delicious', 'Add_a_private_bookmark']\n",
      "['Facebook', 'New_status_message_by_you', 'Launch_Center', 'Run_custom_URL']\n",
      "['GitHub', 'New_issue_assigned_to_you', 'Launch_Center', 'Run_custom_URL']\n",
      "['Twitter', 'New_liked_tweet_by_you', 'Launch_Center', 'Run_custom_URL']\n",
      "['Gmail', 'Any_new_email_in_inbox', 'Feedly', 'Add_new_source']\n",
      "['Fiverr', 'New_order_received', 'Email_Digest', 'Add_to_weekly_digest']\n",
      "['Flickr', 'New_public_photos', 'Gmail', 'Send_an_email']\n",
      "['Nest_Protect', 'Battery_is_low', 'Launch_Center', 'Run_custom_URL']\n",
      "['Tumblr', 'New_like', 'Flickr', 'Upload_public_photo_from_URL']\n",
      "['Facebook', 'New_photo_post_by_you_with_hashtag', 'Android_Device', 'Update_device_wallpaper']\n",
      "['NewsBlur', 'New_unread_story', 'IF_Notifications', 'Send_a_notification']\n",
      "['GitHub', 'New_repository_by_a_specific_username_or_organization', 'WordPress', 'Create_a_post']\n",
      "['Instagram', 'You_like_a_video', 'WordPress', 'Create_a_post']\n",
      "['Fiverr', 'New_order_received', 'Gmail', 'Send_an_email']\n",
      "['Square', 'Any_new_payment', 'Email', 'Send_me_an_email']\n",
      "['Square', 'Any_new_payment', 'Email_Digest', 'Add_to_weekly_digest']\n",
      "['Square', 'New_payment_over_a_specific_amount', 'IF_Notifications', 'Send_a_notification']\n",
      "['Square', 'New_refund_over_a_specific_amount', 'IF_Notifications', 'Send_a_notification']\n",
      "['Square', 'New_payment_over_a_specific_amount', 'GroupMe', 'Post_a_message_to_group']\n",
      "['Square', 'Any_new_payment', 'Evernote', 'Create_a_note']\n",
      "['Square', 'New_refund_over_a_specific_amount', 'Gmail', 'Send_an_email']\n",
      "['Square', 'Any_new_settlement', 'IF_Notifications', 'Send_a_notification']\n",
      "['YouTube', 'New_watch_later_video', 'ReadingPack', 'Add_a_Must_Read_to_your_list']\n",
      "['Android_Device', 'Connects_to_any_WiFi_network', 'SMS', 'Send_me_an_SMS']\n",
      "['Space', 'ISS_passes_over_a_specific_location', 'Philips_Hue', 'Turn_on_color_loop']\n",
      "['Space', 'Astronaut_exits_space', 'Numerous', 'Increment_a_number']\n",
      "['Eyefi', 'Photo_tagged', 'Facebook_Pages', 'Upload_a_photo_from_URL']\n",
      "['iOS_Photos', 'New_photo_taken_in_area', 'Blogger', 'Create_a_photo_post']\n",
      "['Diigo', 'Any_new_public_bookmark', 'Fitbit', 'Log_your_weight']\n",
      "['Diigo', 'Any_new_public_bookmark', 'Box', 'Upload_file_from_URL']\n",
      "['Buffer', 'Any_new_post_in_Buffer', 'reddit', 'Submit_a_new_link']\n",
      "['Android_Phone_Call', 'Any_phone_call_answered', 'Pushbullet', 'Push_a_note']\n",
      "['Instapaper', 'New_item_saved', 'IF_Notifications', 'Send_a_notification']\n",
      "['Google_Calendar', 'Event_from_search_starts', 'GroupMe', 'Post_a_message_to_group']\n",
      "['Toodledo', 'New_task_with_tag', 'Gmail', 'Send_an_email']\n",
      "['Instapaper', 'Item_moved_to_folder', 'Evernote', 'Create_a_link_note']\n",
      "['Nest_Thermostat', 'Temperature_drops_below', 'Phone_Call', 'Call_my_phone']\n",
      "['Launch_Center', 'Trigger', 'Dropbox', 'Append_to_a_text_file']\n",
      "['Square', 'Any_new_payment', 'Facebook_Pages', 'Create_a_status_message']\n",
      "['SoundCloud', 'New_public_like', 'Sina_Weibo', 'Publish_a_new_post']\n",
      "['Sina_Weibo', 'New_post_by_you_with_hashtag', 'Evernote', 'Create_a_note']\n",
      "['Instagram', 'You_like_a_video', 'Sina_Weibo', 'Publish_a_new_post']\n",
      "['WordPress', 'Any_new_post', 'IF_Notifications', 'Send_a_notification']\n",
      "['The_New_York_Times', 'New_article_from_search', 'Dropbox', 'Add_file_from_URL']\n",
      "['Facebook', 'New_status_message_by_you_with_hashtag', 'Email', 'Send_me_an_email']\n",
      "['Blogger', 'Any_new_post', 'Todoist', 'Create_task']\n",
      "['Digg', \"Today's_most_dugg_story\", 'Todoist', 'Create_task']\n",
      "['Stocks', \"Today's_price_drops_by_percentage\", 'Todoist', 'Create_task']\n",
      "['500px', 'New_photo_from_anyone_tagged', 'Todoist', 'Create_task']\n",
      "['Launch_Center', 'Trigger', 'Todoist', 'Create_task']\n",
      "['Best_Buy', 'Product_price_changes', 'Todoist', 'Create_task']\n",
      "['Date_&_Time', 'Every_year_on', 'Todoist', 'Create_task']\n",
      "['Facebook_Pages', 'New_status_message_with_hashtag_on_page', 'Diigo', 'Add_a_public_bookmark']\n",
      "['ESPN', 'New_in-game_update', 'UP_by_Jawbone', 'Log_a_mood']\n",
      "['ESPN', 'New_in-game_update', 'SmartThings', 'Switch_on']\n",
      "['IFTTT', 'New_Published_Recipe_from_search', 'Gmail', 'Send_an_email']\n",
      "['Manything', 'Motion_detected', 'Philips_Hue', 'Turn_on_lights']\n",
      "['Nest_Thermostat', 'Temperature_rises_above', 'Sina_Weibo', 'Publish_a_new_post']\n",
      "['TrackIf', 'New_real_estate_notification', 'Email', 'Send_me_an_email']\n",
      "['The_New_York_Times', 'New_article_from_search', 'Dropbox', 'Add_file_from_URL']\n",
      "['Gmail', 'Any_new_attachment_in_inbox', 'iOS_Reminders', 'Add_reminder_to_list']\n",
      "['Facebook', 'New_status_message_by_you', 'Launch_Center', 'Run_custom_URL']\n",
      "['UP_by_Jawbone', 'Step_goal_achieved', 'Numerous', 'Increment_a_number']\n",
      "['Weather', 'Current_temperature_drops_below', 'Honeywell_evohome', 'Enable_a_quick_action']\n",
      "['Best_Buy', 'Popular_products_on_Best_Buy', 'IF_Notifications', 'Send_a_notification']\n",
      "['iOS_Photos', 'New_photo_added_to_album', 'Google_Drive', 'Add_row_to_spreadsheet']\n",
      "['iOS_Reminders', 'Any_reminder_completed', 'OneNote', 'Create_a_page']\n",
      "['Is_It_Christmas?', 'Is_It_Christmas?', 'IF_Notifications', 'Send_a_notification']\n",
      "['Fitbit', 'New_sleep_logged', 'IF_Notifications', 'Send_a_notification']\n",
      "['littleBits', 'Turned_On', 'Android_SMS', 'Send_an_SMS']\n",
      "['Fitbit', 'New_sleep_logged', 'Dropbox', 'Create_a_text_file']\n",
      "['iOS_Reminders', 'New_reminder_added_to_list', 'Philips_Hue', 'Change_color']\n",
      "['The_New_York_Times', 'New_popular_article_in_section', 'Pushalot', 'Send_a_message']\n",
      "length of test: 3869\n",
      "length of new_test: 3717\n"
     ]
    }
   ],
   "source": [
    "new_test=[]\n",
    "for item in datadict['test']:\n",
    "    nam = item['label_names']\n",
    "    na=[zero[nam[0]], one[nam[1]], two[nam[2]], three[nam[3]]]\n",
    "    if zero_two[na[0],na[2]]==1 and one_three[na[1], na[3]]==1:\n",
    "        new_test.append(item)\n",
    "    else:\n",
    "        print(nam)\n",
    "print(\"length of test: {}\".format(len(datadict['test'])))\n",
    "print(\"length of new_test: {}\".format(len(new_test)))\n",
    "datadict['new_test']=new_test\n",
    "filename=\"msr_data.pkl\"\n",
    "with open(filename, 'wb') as f:\n",
    "    pickle.dump(datadict, f) "
   ]
  }
 ],
 "metadata": {
  "kernelspec": {
   "display_name": "Python 3",
   "language": "python",
   "name": "python3"
  },
  "language_info": {
   "codemirror_mode": {
    "name": "ipython",
    "version": 3
   },
   "file_extension": ".py",
   "mimetype": "text/x-python",
   "name": "python",
   "nbconvert_exporter": "python",
   "pygments_lexer": "ipython3",
   "version": "3.6.9"
  }
 },
 "nbformat": 4,
 "nbformat_minor": 2
}
