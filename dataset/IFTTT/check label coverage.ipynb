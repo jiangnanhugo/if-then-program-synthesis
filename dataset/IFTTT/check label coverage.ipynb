{
 "cells": [
  {
   "cell_type": "code",
   "execution_count": 1,
   "metadata": {},
   "outputs": [],
   "source": [
    "import pickle\n",
    "import numpy as np\n",
    "import json\n",
    "import sys\n",
    "import codecs\n",
    "from collections import defaultdict"
   ]
  },
  {
   "cell_type": "code",
   "execution_count": 2,
   "metadata": {},
   "outputs": [],
   "source": [
    "with codecs.open('label_embd.dict.pkl','rb') as fr:\n",
    "    dicts=pickle.load(fr)"
   ]
  },
  {
   "cell_type": "code",
   "execution_count": 3,
   "metadata": {},
   "outputs": [],
   "source": [
    "choices  = ['zero2index.txt', 'one2index.txt', 'two2index.txt', 'three2index.txt']\n",
    "label2index, index2label = defaultdict(), defaultdict()\n",
    "for index, choice in enumerate(choices):\n",
    "        with codecs.open(choice, 'r', 'utf-8')as fr:\n",
    "            lines = fr.read().split('\\n')\n",
    "            label2index[index] = defaultdict(int)\n",
    "            index2label[index] = defaultdict(str)\n",
    "            for line in lines:\n",
    "                splitted = line.strip().split(' ')\n",
    "                if len(splitted) == 2:\n",
    "                    label2index[index][splitted[0]] = int(splitted[1])"
   ]
  },
  {
   "cell_type": "code",
   "execution_count": 4,
   "metadata": {},
   "outputs": [
    {
     "data": {
      "text/plain": [
       "'/scratch1/jiang631/Workspace/latent_attention/dataset/IFTTT'"
      ]
     },
     "execution_count": 4,
     "metadata": {},
     "output_type": "execute_result"
    }
   ],
   "source": [
    "import os\n",
    "os.getcwd()"
   ]
  },
  {
   "cell_type": "code",
   "execution_count": 6,
   "metadata": {},
   "outputs": [
    {
     "name": "stdout",
     "output_type": "stream",
     "text": [
      "[[111   0]\n",
      " [443   0]\n",
      " [ 88   0]\n",
      " [161   0]]\n"
     ]
    }
   ],
   "source": [
    "count=np.zeros((4,2),dtype=np.int32)\n",
    "for i in range(4):\n",
    "    for name in label2index[i]:\n",
    "        if name in dicts[i]:\n",
    "            count[i][0]+=1\n",
    "        else:\n",
    "            count[i][1]+=1\n",
    "            print(name)\n",
    "print(count)\n",
    "\n",
    "# count=np.zeros((4,2),dtype=np.int32)\n",
    "# for i in range(4):\n",
    "#     for name in dicts[i]:\n",
    "#         if name in label2index[i]:\n",
    "#             count[i][0]+=1\n",
    "#         else:\n",
    "#             count[i][1]+=1\n",
    "#             print(name)\n",
    "# print(count)"
   ]
  }
 ],
 "metadata": {
  "kernelspec": {
   "display_name": "Python 3",
   "language": "python",
   "name": "python3"
  },
  "language_info": {
   "codemirror_mode": {
    "name": "ipython",
    "version": 3
   },
   "file_extension": ".py",
   "mimetype": "text/x-python",
   "name": "python",
   "nbconvert_exporter": "python",
   "pygments_lexer": "ipython3",
   "version": "3.6.9"
  }
 },
 "nbformat": 4,
 "nbformat_minor": 2
}
