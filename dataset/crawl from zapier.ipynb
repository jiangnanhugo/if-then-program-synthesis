{
 "cells": [
  {
   "cell_type": "code",
   "execution_count": null,
   "metadata": {},
   "outputs": [],
   "source": [
    "from bs4 import BeautifulSoup\n",
    "import pandas as pd\n",
    "from time import sleep\n",
    "from selenium import webdriver\n",
    "import codecs\n",
    "import json\n",
    "import urllib\n",
    "import copy\n",
    "import urllib.request\n",
    "import urllib.parse\n",
    "import os\n",
    "from selenium.webdriver.common.keys import Keys\n",
    "from selenium.webdriver.common.by import By\n",
    "from multiprocessing.dummy import Pool \n",
    "from selenium.webdriver.chrome.options import Options\n",
    "options =  Options()\n",
    "options.binary_location=\"C:\\Program Files (x86)\\Google\\Chrome\\Application\\chrome.exe\"\n",
    "# chrome driver: https://chromedriver.chromium.org/downloads\n",
    "driver=webdriver.Chrome(options=options, executable_path=\"D:\\Program Files\\chromedriver.exe\")"
   ]
  },
  {
   "cell_type": "markdown",
   "metadata": {},
   "source": [
    "#### all the category"
   ]
  },
  {
   "cell_type": "code",
   "execution_count": null,
   "metadata": {},
   "outputs": [],
   "source": [
    "catgory=['accounting', 'Analytics', 'aws', 'App-Builder', 'Bookmarks', 'Calendar', 'Call-Tracking', 'Contacts', \n",
    "         'Customer-Appreciation', 'CRM', 'Customer-Support', 'Dashboards', 'Databases', 'Developer-Tools', \n",
    "         'Devices', 'Documents', 'Drip-Emails', 'Ecommerce', 'Education', 'Email', 'Email-Newsletters', \n",
    "         'Event-Management', 'Facebook', 'Fax', 'Files', 'Entertainment', 'Forms', 'Fundraising', 'Gaming', \n",
    "         'Google', 'HR', 'business-tools', 'marketing', 'Microsoft', 'News', 'Notes', 'Notifications', \n",
    "         'Password-Management', 'Payment-Processing', 'Phone', 'Printing',  'Product-Management', 'Project-Management', \n",
    "         'Invoices', 'Real-Estate', 'Reports', 'Scheduling', 'Server-Monitoring', 'Signatures', 'Social', \n",
    "         'social-marketing', 'Spreadsheets',  'Surveys', 'Team-Chat', 'Team-Collaboration', 'Time-Tracking', 'Todo-Lists', \n",
    "         'Transactional-Email', 'Video-Calls', 'Video', 'Webinars', 'cms', 'WordPress', 'zapier-tools', 'Zoho']"
   ]
  },
  {
   "cell_type": "markdown",
   "metadata": {},
   "source": [
    "#### download all categories html pages\n",
    "already done"
   ]
  },
  {
   "cell_type": "code",
   "execution_count": null,
   "metadata": {},
   "outputs": [],
   "source": [
    "for cat in catgory:\n",
    "    url='https://zapier.com/apps/categories/'+cat\n",
    "    with urllib.request.urlopen(url)as f:\n",
    "        html=f.read().decode('utf-8')\n",
    "    with codecs.open(\"download_zapier/\"+cat+\".html\",\"w\",'utf-8') as fw:\n",
    "        fw.write(html)\n",
    "    print(cat)\n",
    "#     soup=BeautifulSoup(html, \"html5lib\")"
   ]
  },
  {
   "cell_type": "markdown",
   "metadata": {},
   "source": [
    "#### download all the service url inside every category\n",
    "already done"
   ]
  },
  {
   "cell_type": "code",
   "execution_count": null,
   "metadata": {},
   "outputs": [],
   "source": [
    "for cat in catgory:\n",
    "    print(cat)\n",
    "    html=codecs.open(\"download_zapier/\"+cat+\".html\",\"r\",'utf-8').read() \n",
    "    soup=BeautifulSoup(html, \"html5lib\")\n",
    "    elem = soup.find_all('li',\"service-all\")\n",
    "    path=os.path.join(\"download_zapier\",cat)\n",
    "    if not os.path.isdir(path):\n",
    "        print(\"making:\",path)\n",
    "        os.mkdir(path)\n",
    "    fw=open(os.path.join(path,'urls'),'w')\n",
    "    print(len(elem))\n",
    "    for sect in elem:\n",
    "        name=sect.find_all('a')[0]\n",
    "        href=name.get('href')\n",
    "        name=href.split('/')[2]\n",
    "        url=\"https://zapier.com\"+href\n",
    "        fw.write(url+\"\\n\")\n",
    "        print(url)\n",
    "    fw.flush()\n",
    "    fw.close()   "
   ]
  },
  {
   "cell_type": "markdown",
   "metadata": {},
   "source": [
    "#### download every services and extract every applets urls\n",
    "need to run many times!"
   ]
  },
  {
   "cell_type": "code",
   "execution_count": null,
   "metadata": {},
   "outputs": [],
   "source": [
    "def get_applet_htmls(url):\n",
    "    driver.get(url)\n",
    "    btn = driver.find_elements(By.XPATH, '//button[@aria-label=\"Next Page\"]')\n",
    "    if btn:\n",
    "        btn=btn[-1]\n",
    "    else:\n",
    "        return -1\n",
    "    url_list=[]\n",
    "    flag = btn.is_enabled()\n",
    "    while flag:\n",
    "        elem = driver.find_elements_by_class_name(\"zap-template-preview\")\n",
    "        for ele in elem:\n",
    "            ele.click()\n",
    "            sleep(0.02)\n",
    "        html=driver.page_source\n",
    "        soup=BeautifulSoup(html, \"html5lib\")\n",
    "        applet = soup.find_all(\"div\",\"zap-template-preview--expanded\")\n",
    "        \n",
    "        if len(applet)==0:\n",
    "            break\n",
    "        for apple in applet:\n",
    "            url=apple.find_all(\"a\",\"button--secondary\")[0].get('href')\n",
    "            url=\"https://zapier.com\"+url\n",
    "            url_list.append(url)\n",
    "#             print(url)\n",
    "        flag=btn.is_enabled()\n",
    "        if flag:\n",
    "            btn.click()\n",
    "            sleep(3)\n",
    "        print(len(url_list), end=\" \")\n",
    "    print(\"length: {}\".format(len(url_list)))\n",
    "    return url_list"
   ]
  },
  {
   "cell_type": "markdown",
   "metadata": {},
   "source": [
    "#### keep running this, until it finish every service."
   ]
  },
  {
   "cell_type": "code",
   "execution_count": null,
   "metadata": {},
   "outputs": [],
   "source": [
    "for root, dirs, files in os.walk(\"download_zapier\", topdown=False):\n",
    "        for name in files:\n",
    "            if name.endswith('urls'):\n",
    "                urls=open(os.path.join(root, name),\"r\")\n",
    "                for url in urls:\n",
    "                    try:\n",
    "#                         url=url.strip()\n",
    "                        pathname=os.path.join(root,url.split('/')[-2])\n",
    "#                        \n",
    "                        if not os.path.isdir(pathname):\n",
    "                            os.mkdir(pathname)\n",
    "                        if os.path.isfile(os.path.join(pathname,'url')) and os.stat(os.path.join(pathname,'url')).st_size>10:\n",
    "                            print(os.stat(os.path.join(pathname,'url')).st_size)\n",
    "                            print(\"omit {}\".format(pathname), end=\" \")\n",
    "                            continue\n",
    "                        print(\"download {}\".format(pathname))\n",
    "                        applet_urls=get_applet_htmls(url)\n",
    "                        if applet_urls==-1:\n",
    "                            print(\"service {} is too new!\".format(url))\n",
    "                            continue\n",
    "                        \n",
    "                        fw= open(os.path.join(pathname,'url'),'w')\n",
    "                        fw.write(\"\\n\".join(applet_urls))\n",
    "                        fw.flush()\n",
    "                        fw.close()\n",
    "                        print(\"write {} to {}\".format(len(applet_urls), pathname))\n",
    "                    except Exception as err:\n",
    "                        print(\"{} we need to restart....\".format(err))\n",
    "                with open(os.path.join(root,name),\"w\")as fw:\n",
    "                    fw.write(\"\\n\".join(urls))\n",
    "                    fw.flush()\n",
    "                    fw.close()"
   ]
  },
  {
   "cell_type": "code",
   "execution_count": null,
   "metadata": {},
   "outputs": [],
   "source": []
  }
 ],
 "metadata": {
  "kernelspec": {
   "display_name": "Python 3",
   "language": "python",
   "name": "python3"
  },
  "language_info": {
   "codemirror_mode": {
    "name": "ipython",
    "version": 3
   },
   "file_extension": ".py",
   "mimetype": "text/x-python",
   "name": "python",
   "nbconvert_exporter": "python",
   "pygments_lexer": "ipython3",
   "version": "3.7.1"
  }
 },
 "nbformat": 4,
 "nbformat_minor": 2
}
